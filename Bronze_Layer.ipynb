{
 "cells": [
  {
   "cell_type": "code",
   "execution_count": 0,
   "metadata": {
    "application/vnd.databricks.v1+cell": {
     "cellMetadata": {
      "byteLimit": 2048000,
      "rowLimit": 10000
     },
     "inputWidgets": {},
     "nuid": "aeb19ac5-109a-4287-9dcf-287c49c0b86d",
     "showTitle": false,
     "title": ""
    }
   },
   "outputs": [],
   "source": [
    "client_id = dbutils.secrets.get(scope = \"ecom-secret-scope\", key = \"clientid\")\n",
    "tenant_id = dbutils.secrets.get(scope = \"ecom-secret-scope\", key = \"tenantid\")\n",
    "secret_value = dbutils.secrets.get(scope = \"ecom-secret-scope\", key = \"secretvalue\")"
   ]
  },
  {
   "cell_type": "code",
   "execution_count": 0,
   "metadata": {
    "application/vnd.databricks.v1+cell": {
     "cellMetadata": {
      "byteLimit": 2048000,
      "rowLimit": 10000
     },
     "inputWidgets": {},
     "nuid": "e551c20b-7021-474a-bcaa-42ec705b41ae",
     "showTitle": false,
     "title": ""
    }
   },
   "outputs": [],
   "source": [
    "if not any(mount.mountPoint == '/mnt/ecomdata' for mount in dbutils.fs.mounts()):\n",
    "    configs = {\n",
    "        \"fs.azure.account.auth.type\": \"OAuth\",\n",
    "        \"fs.azure.account.oauth.provider.type\": \"org.apache.hadoop.fs.azurebfs.oauth2.ClientCredsTokenProvider\",\n",
    "        \"fs.azure.account.oauth2.client.id\": client_id,\n",
    "        \"fs.azure.account.oauth2.client.secret\": secret_value,\n",
    "        \"fs.azure.account.oauth2.client.endpoint\": f\"https://login.microsoftonline.com/{tenant_id}/oauth2/token\"\n",
    "    }\n",
    "\n",
    "    dbutils.fs.mount(\n",
    "        source=\"abfss://ecomstoragecontainer@ecomstorageidenitifier.dfs.core.windows.net\",\n",
    "        mount_point=\"/mnt/ecomdata\",\n",
    "        extra_configs=configs\n",
    "    )"
   ]
  },
  {
   "cell_type": "code",
   "execution_count": 0,
   "metadata": {
    "application/vnd.databricks.v1+cell": {
     "cellMetadata": {
      "byteLimit": 2048000,
      "rowLimit": 10000
     },
     "inputWidgets": {},
     "nuid": "0af1f804-ab42-45b3-aede-41ce1863f1fe",
     "showTitle": false,
     "title": ""
    }
   },
   "outputs": [
    {
     "output_type": "display_data",
     "data": {
      "text/html": [
       "<style scoped>\n",
       "  .table-result-container {\n",
       "    max-height: 300px;\n",
       "    overflow: auto;\n",
       "  }\n",
       "  table, th, td {\n",
       "    border: 1px solid black;\n",
       "    border-collapse: collapse;\n",
       "  }\n",
       "  th, td {\n",
       "    padding: 5px;\n",
       "  }\n",
       "  th {\n",
       "    text-align: left;\n",
       "  }\n",
       "</style><div class='table-result-container'><table class='table-result'><thead style='background-color: white'><tr><th>path</th><th>name</th><th>size</th><th>modificationTime</th></tr></thead><tbody><tr><td>dbfs:/mnt/ecomdata/processed_data/</td><td>processed_data/</td><td>0</td><td>1717779001000</td></tr><tr><td>dbfs:/mnt/ecomdata/raw_data/</td><td>raw_data/</td><td>0</td><td>1717778989000</td></tr></tbody></table></div>"
      ]
     },
     "metadata": {
      "application/vnd.databricks.v1+output": {
       "addedWidgets": {},
       "aggData": [],
       "aggError": "",
       "aggOverflow": false,
       "aggSchema": [],
       "aggSeriesLimitReached": false,
       "aggType": "",
       "arguments": {},
       "columnCustomDisplayInfos": {},
       "data": [
        [
         "dbfs:/mnt/ecomdata/processed_data/",
         "processed_data/",
         0,
         1717779001000
        ],
        [
         "dbfs:/mnt/ecomdata/raw_data/",
         "raw_data/",
         0,
         1717778989000
        ]
       ],
       "datasetInfos": [],
       "dbfsResultPath": null,
       "isJsonSchema": true,
       "metadata": {
        "isDbfsCommandResult": false
       },
       "overflow": false,
       "plotOptions": {
        "customPlotOptions": {},
        "displayType": "table",
        "pivotAggregation": null,
        "pivotColumns": null,
        "xColumns": null,
        "yColumns": null
       },
       "removedWidgets": [],
       "schema": [
        {
         "metadata": "{}",
         "name": "path",
         "type": "\"string\""
        },
        {
         "metadata": "{}",
         "name": "name",
         "type": "\"string\""
        },
        {
         "metadata": "{}",
         "name": "size",
         "type": "\"long\""
        },
        {
         "metadata": "{}",
         "name": "modificationTime",
         "type": "\"long\""
        }
       ],
       "type": "table"
      }
     },
     "output_type": "display_data"
    }
   ],
   "source": [
    "%fs ls '/mnt/ecomdata/'"
   ]
  },
  {
   "cell_type": "code",
   "execution_count": 0,
   "metadata": {
    "application/vnd.databricks.v1+cell": {
     "cellMetadata": {
      "byteLimit": 2048000,
      "rowLimit": 10000
     },
     "inputWidgets": {},
     "nuid": "3c08fd07-9c42-4b43-a3eb-546a0e0db3d0",
     "showTitle": false,
     "title": ""
    }
   },
   "outputs": [],
   "source": [
    "from pyspark.sql import SparkSession\n",
    "from pyspark.sql.functions import *\n",
    "from pyspark.sql.types import *"
   ]
  },
  {
   "cell_type": "code",
   "execution_count": 0,
   "metadata": {
    "application/vnd.databricks.v1+cell": {
     "cellMetadata": {
      "byteLimit": 2048000,
      "rowLimit": 10000
     },
     "inputWidgets": {},
     "nuid": "9d9a0d5f-32ad-4ac9-9b22-11cef03751e8",
     "showTitle": false,
     "title": ""
    }
   },
   "outputs": [],
   "source": [
    "spark = SparkSession.builder.appName(\"EcomDataPipeline\").getOrCreate()"
   ]
  },
  {
   "cell_type": "code",
   "execution_count": 0,
   "metadata": {
    "application/vnd.databricks.v1+cell": {
     "cellMetadata": {
      "byteLimit": 2048000,
      "rowLimit": 10000
     },
     "inputWidgets": {},
     "nuid": "de76dfbb-f8a7-4612-b9d1-5d7d0722e6ca",
     "showTitle": false,
     "title": ""
    }
   },
   "outputs": [
    {
     "output_type": "execute_result",
     "data": {
      "text/html": [
       "\n",
       "            <div>\n",
       "                <p><b>SparkSession - hive</b></p>\n",
       "                \n",
       "        <div>\n",
       "            <p><b>SparkContext</b></p>\n",
       "\n",
       "            <p><a href=\"/?o=227840173343098#setting/sparkui/0608-152555-vlfgxhme/driver-7335039411134607847\">Spark UI</a></p>\n",
       "\n",
       "            <dl>\n",
       "              <dt>Version</dt>\n",
       "                <dd><code>v3.5.0</code></dd>\n",
       "              <dt>Master</dt>\n",
       "                <dd><code>local[*, 4]</code></dd>\n",
       "              <dt>AppName</dt>\n",
       "                <dd><code>Databricks Shell</code></dd>\n",
       "            </dl>\n",
       "        </div>\n",
       "        \n",
       "            </div>\n",
       "        "
      ],
      "text/plain": [
       "<pyspark.sql.session.SparkSession at 0x7f2e8dcab610>"
      ]
     },
     "execution_count": 29,
     "metadata": {},
     "output_type": "execute_result"
    }
   ],
   "source": [
    "spark"
   ]
  },
  {
   "cell_type": "code",
   "execution_count": 0,
   "metadata": {
    "application/vnd.databricks.v1+cell": {
     "cellMetadata": {
      "byteLimit": 2048000,
      "rowLimit": 10000
     },
     "inputWidgets": {},
     "nuid": "e636e4fc-f370-429e-b702-607ddbf294b6",
     "showTitle": false,
     "title": ""
    }
   },
   "outputs": [],
   "source": [
    "# Read parquet file from /mnt/ecomdata1/user-raw-2 folder\n",
    "usersDF = spark.read.format(\"parquet\")\\\n",
    "    .option(\"header\",'true')\\\n",
    "    .option(\"inferSchema\",'true')\\\n",
    "    .load(\"/mnt/ecomdata/processed_data/to_processed/users_data\")"
   ]
  },
  {
   "cell_type": "code",
   "execution_count": 0,
   "metadata": {
    "application/vnd.databricks.v1+cell": {
     "cellMetadata": {
      "byteLimit": 2048000,
      "rowLimit": 10000
     },
     "inputWidgets": {},
     "nuid": "52e7fe0e-2856-469a-8a52-0374807c1078",
     "showTitle": false,
     "title": ""
    }
   },
   "outputs": [
    {
     "output_type": "stream",
     "name": "stdout",
     "output_type": "stream",
     "text": [
      "+--------------------+----+----------+--------+-----------------+---------------+-------------------+--------------+------------+----------------+--------------+--------------+------+----------------+-------------+---------+-------------+---------+-----------------+------------------+---------+-----------------+----------------+-----------+\n|      identifierHash|type|   country|language|socialNbFollowers|socialNbFollows|socialProductsLiked|productsListed|productsSold|productsPassRate|productsWished|productsBought|gender|civilityGenderId|civilityTitle|hasAnyApp|hasAndroidApp|hasIosApp|hasProfilePicture|daysSinceLastLogin|seniority|seniorityAsMonths|seniorityAsYears|countryCode|\n+--------------------+----+----------+--------+-----------------+---------------+-------------------+--------------+------------+----------------+--------------+--------------+------+----------------+-------------+---------+-------------+---------+-----------------+------------------+---------+-----------------+----------------+-----------+\n|-7279641312655250028|user|Etats-Unis|      en|                3|              8|                  0|             0|           0|             0.0|             0|             0|     F|               2|          mrs|    False|        False|    False|             True|               709|     3205|           106.83|             8.9|         us|\n|-1456013578740053406|user| Allemagne|      de|                3|              8|                  0|             0|           0|             0.0|             0|             0|     F|               2|          mrs|    False|        False|    False|             True|               709|     3205|           106.83|             8.9|         de|\n| 9006282053848196165|user|     Suède|      en|                3|              8|                  0|             0|           0|             0.0|             0|             0|     M|               1|           mr|     True|        False|     True|             True|               689|     3205|           106.83|             8.9|         se|\n|-7154634866120535654|user|   Turquie|      en|                3|              8|                  0|             0|           0|             0.0|             0|             0|     F|               2|          mrs|    False|        False|    False|             True|               709|     3205|           106.83|             8.9|         tr|\n| 2858299215060733023|user|    France|      en|                3|              8|                  0|             0|           0|             0.0|             0|             0|     M|               1|           mr|     True|        False|     True|             True|               709|     3205|           106.83|             8.9|         fr|\n+--------------------+----+----------+--------+-----------------+---------------+-------------------+--------------+------------+----------------+--------------+--------------+------+----------------+-------------+---------+-------------+---------+-----------------+------------------+---------+-----------------+----------------+-----------+\nonly showing top 5 rows\n\n"
     ]
    }
   ],
   "source": [
    "usersDF.show(5)"
   ]
  },
  {
   "cell_type": "code",
   "execution_count": 0,
   "metadata": {
    "application/vnd.databricks.v1+cell": {
     "cellMetadata": {
      "byteLimit": 2048000,
      "rowLimit": 10000
     },
     "inputWidgets": {},
     "nuid": "32cfc4a1-a056-4d92-9c46-fb79aed2f92b",
     "showTitle": false,
     "title": ""
    }
   },
   "outputs": [],
   "source": [
    "usersDF.write.format(\"delta\")\\\n",
    "    .mode(\"overwrite\")\\\n",
    "    .save(\"/mnt/delta/tables/bronze/users\")"
   ]
  },
  {
   "cell_type": "code",
   "execution_count": 0,
   "metadata": {
    "application/vnd.databricks.v1+cell": {
     "cellMetadata": {
      "byteLimit": 2048000,
      "rowLimit": 10000
     },
     "inputWidgets": {},
     "nuid": "1971b335-c7eb-4c4a-8aa7-7e245ffbd1fd",
     "showTitle": false,
     "title": ""
    }
   },
   "outputs": [
    {
     "output_type": "stream",
     "name": "stdout",
     "output_type": "stream",
     "text": [
      "+-----------+------+---------+-------------+------------+----------+---------------+-------------+-----------------+--------------------+----------------------+------------------+-------------------------+---------------------+-------------------+-------------------+------------------+----------------------+----------------------+---------------------+------------------+------------------+-----------------+---------------------+---------------------+--------------------+---------------+------------------+-------------+-------------+----------------+----------------+\n|    country|buyers|topbuyers|topbuyerratio|femalebuyers|malebuyers|topfemalebuyers|topmalebuyers|femalebuyersratio|topfemalebuyersratio|boughtperwishlistratio|boughtperlikeratio|topboughtperwishlistratio|topboughtperlikeratio|totalproductsbought|totalproductswished|totalproductsliked|toptotalproductsbought|toptotalproductswished|toptotalproductsliked|meanproductsbought|meanproductswished|meanproductsliked|topmeanproductsbought|topmeanproductswished|topmeanproductsliked|meanofflinedays|topmeanofflinedays|meanfollowers|meanfollowing|topmeanfollowers|topmeanfollowing|\n+-----------+------+---------+-------------+------------+----------+---------------+-------------+-----------------+--------------------+----------------------+------------------+-------------------------+---------------------+-------------------+-------------------+------------------+----------------------+----------------------+---------------------+------------------+------------------+-----------------+---------------------+---------------------+--------------------+---------------+------------------+-------------+-------------+----------------+----------------+\n|     France|  1251|       53|          4.2|         851|       400|             33|           20|             68.0|                62.3|                 26.08|             14.15|                    36.37|                23.21|               3573|              13700|             25249|                  1487|                  4089|                 6406|               2.9|              11.0|             20.2|                 28.1|                 77.2|               120.9|          321.8|              75.0|          4.8|          8.8|            10.1|            11.0|\n|Royaume-Uni|   792|       38|          4.8|         560|       232|             30|            8|             70.7|                78.9|                 14.97|               9.3|                    13.93|                11.59|               2174|              14524|             23378|                   853|                  6124|                 7362|               2.7|              18.3|             29.5|                 22.4|                161.2|               193.7|          298.3|              68.2|          5.4|          8.8|            11.1|            12.2|\n| Etats-Unis|   912|       31|          3.4|         700|       212|             21|           10|             76.8|                67.7|                 21.84|              7.92|                    23.35|                12.44|               2370|              10852|             29917|                   864|                  3701|                 6946|               2.6|              11.9|             32.8|                 27.9|                119.4|               224.1|          359.3|              73.0|          4.9|          9.7|            11.7|            27.9|\n|  Allemagne|   578|       29|          5.0|         409|       169|             21|            8|             70.8|                72.4|                 13.91|              6.88|                    10.13|                 4.85|               1635|              11758|             23761|                   516|                  5096|                10648|               2.8|              20.3|             41.1|                 17.8|                175.7|               367.2|          296.6|              39.3|          5.1|          8.6|            11.2|            11.3|\n|     Italie|   400|       21|          5.3|         283|       117|             14|            7|             70.8|                66.7|                 12.56|               8.6|                    11.86|                23.91|               1221|               9720|             14200|                   519|                  4376|                 2171|               3.1|              24.3|             35.5|                 24.7|                208.4|               103.4|          247.9|              40.9|          6.4|         11.6|            14.3|            15.4|\n|    Espagne|   255|       21|          8.2|         189|        66|             18|            3|             74.1|                85.7|                 12.98|               6.2|                    11.94|                 6.21|               1028|               7918|             16579|                   558|                  4673|                 8984|               4.0|              31.1|             65.0|                 26.6|                222.5|               427.8|          271.1|              39.4|          7.0|          9.5|            17.6|            11.6|\n|   Pays-Bas|   144|       15|         10.4|         118|        26|             10|            5|             81.9|                66.7|                 19.69|              8.73|                    27.21|                11.81|                537|               2727|              6154|                   295|                  1084|                 2498|               3.7|              18.9|             42.7|                 19.7|                 72.3|               166.5|          191.6|              14.3|          6.3|          9.0|            17.7|            10.5|\n|      Suède|   151|       11|          7.3|         113|        38|              7|            4|             74.8|                63.6|                 11.35|              5.52|                    12.57|                 5.02|                566|               4987|             10256|                   234|                  1862|                 4658|               3.7|              33.0|             67.9|                 21.3|                169.3|               423.5|          189.1|              86.0|          7.4|          9.1|            20.2|             9.5|\n|   Finlande|    64|       10|         15.6|          53|        11|              9|            1|             82.8|                90.0|                 35.33|              9.29|                    42.23|                24.26|                331|                937|              3562|                   212|                   502|                  874|               5.2|              14.6|             55.7|                 21.2|                 50.2|                87.4|          184.9|             121.1|          6.7|          9.2|            10.3|            12.5|\n|   Danemark|   157|        9|          5.7|         127|        30|              9|            0|             80.9|               100.0|                 12.89|              1.66|                     6.85|                 4.03|                438|               3399|             26413|                   141|                  2059|                 3499|               2.8|              21.6|            168.2|                 15.7|                228.8|               388.8|          156.0|              19.3|          5.6|          8.6|            11.7|             9.7|\n|  Australie|   126|        9|          7.1|          92|        34|              8|            1|             73.0|                88.9|                 27.75|              5.17|                    39.66|                 4.83|                398|               1434|              7692|                   184|                   464|                 3812|               3.2|              11.4|             61.0|                 20.4|                 51.6|               423.6|          273.7|             102.4|          6.3|          8.9|            11.6|            10.6|\n|   Belgique|    90|        7|          7.8|          73|        17|              7|            0|             81.1|               100.0|                 23.67|             37.47|                    23.82|               439.06|                718|               3033|              1916|                   562|                  2359|                  128|               8.0|              33.7|             21.3|                 80.3|                337.0|                18.3|          220.9|              16.0|          5.5|          8.5|             8.7|             8.4|\n|   Autriche|    49|        6|         12.2|          40|         9|              5|            1|             81.6|                83.3|                 14.14|              8.37|                    16.84|                 9.53|                242|               1712|              2893|                   144|                   855|                 1511|               4.9|              34.9|             59.0|                 24.0|                142.5|               251.8|          295.7|              19.7|          6.0|          8.8|             9.7|            10.0|\n|   Bulgarie|     9|        4|         44.4|           7|         2|              3|            1|             77.8|                75.0|                  3.29|             14.26|                      3.0|                13.84|                 95|               2891|               666|                    84|                  2803|                  607|              10.6|             321.2|             74.0|                 21.0|                700.8|               151.8|           82.2|              37.0|         20.8|         32.7|            39.5|            62.8|\n|     Canada|    65|        3|          4.6|          45|        20|              3|            0|             69.2|               100.0|                  8.51|              2.89|                    40.94|                 13.1|                155|               1822|              5367|                    52|                   127|                  397|               2.4|              28.0|             82.6|                 17.3|                 42.3|               132.3|          325.6|              51.0|          6.1|          8.6|            16.3|            12.0|\n|   Roumanie|    28|        3|         10.7|          22|         6|              2|            1|             78.6|                66.7|                 14.22|              6.84|                    15.19|                 7.44|                162|               1139|              2369|                    94|                   619|                 1263|               5.8|              40.7|             84.6|                 31.3|                206.3|               421.0|          122.1|              16.3|          6.0|          8.4|            12.3|             8.0|\n|  Hong Kong|    28|        3|         10.7|          22|         6|              2|            1|             78.6|                66.7|                  6.75|              1.61|                     9.21|                 1.06|                112|               1660|              6960|                    64|                   695|                 6063|               4.0|              59.3|            248.6|                 21.3|                231.7|              2021.0|          157.5|              68.3|          9.4|         12.4|            14.3|            11.0|\n| Luxembourg|    13|        3|         23.1|          10|         3|              3|            0|             76.9|               100.0|                 32.73|             35.14|                    30.94|                46.04|                162|                495|               461|                   151|                   488|                  328|              12.5|              38.1|             35.5|                 50.3|                162.7|               109.3|          229.4|              11.3|          9.6|          8.3|            26.0|             8.7|\n|   Portugal|    18|        2|         11.1|          12|         6|              1|            1|             66.7|                50.0|                  1.83|              3.42|                    18.07|                 4.48|                 72|               3931|              2108|                    30|                   166|                  670|               4.0|             218.4|            117.1|                 15.0|                 83.0|               335.0|          159.9|              11.0|          9.2|         15.8|            21.0|            11.5|\n|      Chine|    13|        2|         15.4|           9|         4|              2|            0|             69.2|               100.0|                292.11|             18.78|                   1300.0|                20.68|                111|                 38|               591|                    91|                     7|                  440|               8.5|               2.9|             45.5|                 45.5|                  3.5|               220.0|          315.9|             189.0|          4.7|          8.5|             6.0|            10.0|\n+-----------+------+---------+-------------+------------+----------+---------------+-------------+-----------------+--------------------+----------------------+------------------+-------------------------+---------------------+-------------------+-------------------+------------------+----------------------+----------------------+---------------------+------------------+------------------+-----------------+---------------------+---------------------+--------------------+---------------+------------------+-------------+-------------+----------------+----------------+\nonly showing top 20 rows\n\n"
     ]
    }
   ],
   "source": [
    "buyersDF = spark.read.format(\"parquet\")\\\n",
    "    .option(\"header\",'true')\\\n",
    "    .option(\"inferSchema\",'true')\\\n",
    "    .load(\"/mnt/ecomdata/processed_data/to_processed/buyers_data\")"
   ]
  },
  {
   "cell_type": "code",
   "execution_count": 0,
   "metadata": {
    "application/vnd.databricks.v1+cell": {
     "cellMetadata": {
      "byteLimit": 2048000,
      "rowLimit": 10000
     },
     "inputWidgets": {},
     "nuid": "5f5b7826-1253-421f-8faf-f8d5c62b268b",
     "showTitle": false,
     "title": ""
    }
   },
   "outputs": [],
   "source": [
    "buyersDF.write.format(\"delta\")\\\n",
    "    .mode(\"overwrite\")\\\n",
    "    .save(\"/mnt/delta/tables/bronze/buyers\")"
   ]
  },
  {
   "cell_type": "code",
   "execution_count": 0,
   "metadata": {
    "application/vnd.databricks.v1+cell": {
     "cellMetadata": {
      "byteLimit": 2048000,
      "rowLimit": 10000
     },
     "inputWidgets": {},
     "nuid": "d20bd7d5-9981-4ced-93f9-3fe3b181cf74",
     "showTitle": false,
     "title": ""
    }
   },
   "outputs": [],
   "source": [
    "sellersDF = spark.read.format(\"parquet\")\\\n",
    "    .option(\"header\",'true')\\\n",
    "    .option(\"inferSchema\",'true')\\\n",
    "    .load(\"/mnt/ecomdata/processed_data/to_processed/sellers_data\")\n",
    "\n",
    "sellersDF.write.format(\"delta\")\\\n",
    "    .mode(\"overwrite\")\\\n",
    "    .save(\"/mnt/delta/tables/bronze/sellers\")"
   ]
  },
  {
   "cell_type": "code",
   "execution_count": 0,
   "metadata": {
    "application/vnd.databricks.v1+cell": {
     "cellMetadata": {
      "byteLimit": 2048000,
      "rowLimit": 10000
     },
     "inputWidgets": {},
     "nuid": "7f790b49-1e7c-45cb-b736-4fc374341922",
     "showTitle": false,
     "title": ""
    }
   },
   "outputs": [],
   "source": [
    "countriesDF = spark.read.format(\"parquet\")\\\n",
    "    .option(\"header\",'true')\\\n",
    "    .option(\"inferSchema\",'true')\\\n",
    "    .load(\"/mnt/ecomdata/processed_data/to_processed/countries_data\")\n",
    "\n",
    "countriesDF.write.format(\"delta\")\\\n",
    "    .mode(\"overwrite\")\\\n",
    "    .save(\"/mnt/delta/tables/bronze/countries\")"
   ]
  }
 ],
 "metadata": {
  "application/vnd.databricks.v1+notebook": {
   "dashboards": [],
   "environmentMetadata": null,
   "language": "python",
   "notebookMetadata": {
    "mostRecentlyExecutedCommandWithImplicitDF": {
     "commandId": -1,
     "dataframes": [
      "_sqldf"
     ]
    },
    "pythonIndentUnit": 4
   },
   "notebookName": "Bronze_Layer",
   "widgets": {}
  }
 },
 "nbformat": 4,
 "nbformat_minor": 0
}
