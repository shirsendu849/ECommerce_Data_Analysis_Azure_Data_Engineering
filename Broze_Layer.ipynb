{
 "cells": [
  {
   "cell_type": "code",
   "execution_count": 0,
   "metadata": {
    "application/vnd.databricks.v1+cell": {
     "cellMetadata": {
      "byteLimit": 2048000,
      "rowLimit": 10000
     },
     "inputWidgets": {},
     "nuid": "dcd2819d-7c26-4b3f-a941-7ba65cd5e8e9",
     "showTitle": false,
     "title": ""
    }
   },
   "outputs": [
    {
     "output_type": "execute_result",
     "data": {
      "text/plain": [
       "True"
      ]
     },
     "execution_count": 3,
     "metadata": {},
     "output_type": "execute_result"
    }
   ],
   "source": [
    "configs = {\"fs.azure.account.auth.type\": \"OAuth\",\n",
    "\"fs.azure.account.oauth.provider.type\": \"org.apache.hadoop.fs.azurebfs.oauth2.ClientCredsTokenProvider\",\n",
    "\"fs.azure.account.oauth2.client.id\": \"\",\n",
    "\"fs.azure.account.oauth2.client.secret\": '',\n",
    "\"fs.azure.account.oauth2.client.endpoint\": \"https://login.microsoftonline.com/tenantid/oauth2/token\"}\n",
    "\n",
    "\n",
    "dbutils.fs.mount(\n",
    "source = \"abfss://landing-zone-2@ecomadlsdarshil.dfs.core.windows.net\", # contrainer@storageacc\n",
    "mount_point = \"/mnt/ecomdata1\",\n",
    "extra_configs = configs)\n",
    "  "
   ]
  },
  {
   "cell_type": "code",
   "execution_count": 0,
   "metadata": {
    "application/vnd.databricks.v1+cell": {
     "cellMetadata": {
      "byteLimit": 2048000,
      "rowLimit": 10000
     },
     "inputWidgets": {},
     "nuid": "92159a7b-be89-4576-a30c-20b6a4c42f4d",
     "showTitle": false,
     "title": ""
    }
   },
   "outputs": [
    {
     "output_type": "display_data",
     "data": {
      "text/html": [
       "<style scoped>\n",
       "  .table-result-container {\n",
       "    max-height: 300px;\n",
       "    overflow: auto;\n",
       "  }\n",
       "  table, th, td {\n",
       "    border: 1px solid black;\n",
       "    border-collapse: collapse;\n",
       "  }\n",
       "  th, td {\n",
       "    padding: 5px;\n",
       "  }\n",
       "  th {\n",
       "    text-align: left;\n",
       "  }\n",
       "</style><div class='table-result-container'><table class='table-result'><thead style='background-color: white'><tr><th>path</th><th>name</th><th>size</th><th>modificationTime</th></tr></thead><tbody><tr><td>dbfs:/mnt/ecomdata1/buyers-raw-2/</td><td>buyers-raw-2/</td><td>0</td><td>1711521400000</td></tr><tr><td>dbfs:/mnt/ecomdata1/countries-raw-2/</td><td>countries-raw-2/</td><td>0</td><td>1711521415000</td></tr><tr><td>dbfs:/mnt/ecomdata1/sellers-raw-2/</td><td>sellers-raw-2/</td><td>0</td><td>1711521405000</td></tr><tr><td>dbfs:/mnt/ecomdata1/users-raw-2/</td><td>users-raw-2/</td><td>0</td><td>1711521393000</td></tr></tbody></table></div>"
      ]
     },
     "metadata": {
      "application/vnd.databricks.v1+output": {
       "addedWidgets": {},
       "aggData": [],
       "aggError": "",
       "aggOverflow": false,
       "aggSchema": [],
       "aggSeriesLimitReached": false,
       "aggType": "",
       "arguments": {},
       "columnCustomDisplayInfos": {},
       "data": [
        [
         "dbfs:/mnt/ecomdata1/buyers-raw-2/",
         "buyers-raw-2/",
         0,
         1711521400000
        ],
        [
         "dbfs:/mnt/ecomdata1/countries-raw-2/",
         "countries-raw-2/",
         0,
         1711521415000
        ],
        [
         "dbfs:/mnt/ecomdata1/sellers-raw-2/",
         "sellers-raw-2/",
         0,
         1711521405000
        ],
        [
         "dbfs:/mnt/ecomdata1/users-raw-2/",
         "users-raw-2/",
         0,
         1711521393000
        ]
       ],
       "datasetInfos": [],
       "dbfsResultPath": null,
       "isJsonSchema": true,
       "metadata": {
        "isDbfsCommandResult": false
       },
       "overflow": false,
       "plotOptions": {
        "customPlotOptions": {},
        "displayType": "table",
        "pivotAggregation": null,
        "pivotColumns": null,
        "xColumns": null,
        "yColumns": null
       },
       "removedWidgets": [],
       "schema": [
        {
         "metadata": "{}",
         "name": "path",
         "type": "\"string\""
        },
        {
         "metadata": "{}",
         "name": "name",
         "type": "\"string\""
        },
        {
         "metadata": "{}",
         "name": "size",
         "type": "\"long\""
        },
        {
         "metadata": "{}",
         "name": "modificationTime",
         "type": "\"long\""
        }
       ],
       "type": "table"
      }
     },
     "output_type": "display_data"
    }
   ],
   "source": [
    "%fs ls '/mnt/ecomdata1/'"
   ]
  },
  {
   "cell_type": "code",
   "execution_count": 0,
   "metadata": {
    "application/vnd.databricks.v1+cell": {
     "cellMetadata": {
      "byteLimit": 2048000,
      "rowLimit": 10000
     },
     "inputWidgets": {},
     "nuid": "b66cdcd3-a481-4abe-b9b8-7d48bf215bc7",
     "showTitle": false,
     "title": ""
    }
   },
   "outputs": [],
   "source": [
    "from pyspark.sql import SparkSession\n",
    "from pyspark.sql.functions import *\n",
    "from pyspark.sql.types import *"
   ]
  },
  {
   "cell_type": "code",
   "execution_count": 0,
   "metadata": {
    "application/vnd.databricks.v1+cell": {
     "cellMetadata": {
      "byteLimit": 2048000,
      "rowLimit": 10000
     },
     "inputWidgets": {},
     "nuid": "b844d48a-da67-4a25-8bce-7f6fd2dc6011",
     "showTitle": false,
     "title": ""
    }
   },
   "outputs": [],
   "source": [
    "spark = SparkSession.builder.appName(\"EcomDataPipeline\").getOrCreate()"
   ]
  },
  {
   "cell_type": "code",
   "execution_count": 0,
   "metadata": {
    "application/vnd.databricks.v1+cell": {
     "cellMetadata": {
      "byteLimit": 2048000,
      "rowLimit": 10000
     },
     "inputWidgets": {},
     "nuid": "bd167163-53fa-4622-a64f-05e7b1f9754d",
     "showTitle": false,
     "title": ""
    }
   },
   "outputs": [
    {
     "output_type": "execute_result",
     "data": {
      "text/html": [
       "\n",
       "            <div>\n",
       "                <p><b>SparkSession - hive</b></p>\n",
       "                \n",
       "        <div>\n",
       "            <p><b>SparkContext</b></p>\n",
       "\n",
       "            <p><a href=\"/?o=7158601740528244#setting/sparkui/0327-072124-hwstc73g/driver-3579551465161476622\">Spark UI</a></p>\n",
       "\n",
       "            <dl>\n",
       "              <dt>Version</dt>\n",
       "                <dd><code>v3.4.1</code></dd>\n",
       "              <dt>Master</dt>\n",
       "                <dd><code>local[*, 4]</code></dd>\n",
       "              <dt>AppName</dt>\n",
       "                <dd><code>Databricks Shell</code></dd>\n",
       "            </dl>\n",
       "        </div>\n",
       "        \n",
       "            </div>\n",
       "        "
      ],
      "text/plain": [
       "<pyspark.sql.session.SparkSession at 0x7f61c3060dc0>"
      ]
     },
     "execution_count": 6,
     "metadata": {},
     "output_type": "execute_result"
    }
   ],
   "source": [
    "spark"
   ]
  },
  {
   "cell_type": "code",
   "execution_count": 0,
   "metadata": {
    "application/vnd.databricks.v1+cell": {
     "cellMetadata": {
      "byteLimit": 2048000,
      "rowLimit": 10000
     },
     "inputWidgets": {},
     "nuid": "469bc239-0325-4985-8099-9cb9e7b818a1",
     "showTitle": false,
     "title": ""
    }
   },
   "outputs": [],
   "source": [
    "# Read parquet file from /mnt/ecomdata1/user-raw-2 folder\n",
    "userDF = spark.read.format(\"parquet\")\\\n",
    "    .option(\"header\",'true')\\\n",
    "    .option(\"inferSchema\",'true')\\\n",
    "    .load(\"/mnt/ecomdata1/users-raw-2\")"
   ]
  },
  {
   "cell_type": "code",
   "execution_count": 0,
   "metadata": {
    "application/vnd.databricks.v1+cell": {
     "cellMetadata": {
      "byteLimit": 2048000,
      "rowLimit": 10000
     },
     "inputWidgets": {},
     "nuid": "054c5791-8525-4957-a243-60676a57a4cb",
     "showTitle": false,
     "title": ""
    }
   },
   "outputs": [
    {
     "output_type": "stream",
     "name": "stdout",
     "output_type": "stream",
     "text": [
      "+--------------------+----+----------+--------+-----------------+---------------+-------------------+--------------+------------+----------------+--------------+--------------+------+----------------+-------------+---------+-------------+---------+-----------------+------------------+---------+-----------------+----------------+-----------+\n|      identifierHash|type|   country|language|socialNbFollowers|socialNbFollows|socialProductsLiked|productsListed|productsSold|productsPassRate|productsWished|productsBought|gender|civilityGenderId|civilityTitle|hasAnyApp|hasAndroidApp|hasIosApp|hasProfilePicture|daysSinceLastLogin|seniority|seniorityAsMonths|seniorityAsYears|countryCode|\n+--------------------+----+----------+--------+-----------------+---------------+-------------------+--------------+------------+----------------+--------------+--------------+------+----------------+-------------+---------+-------------+---------+-----------------+------------------+---------+-----------------+----------------+-----------+\n|-7279641312655250028|user|Etats-Unis|      en|                3|              8|                  0|             0|           0|             0.0|             0|             0|     F|               2|          mrs|    False|        False|    False|             True|               709|     3205|           106.83|             8.9|         us|\n|-1456013578740053406|user| Allemagne|      de|                3|              8|                  0|             0|           0|             0.0|             0|             0|     F|               2|          mrs|    False|        False|    False|             True|               709|     3205|           106.83|             8.9|         de|\n| 9006282053848196165|user|     Suède|      en|                3|              8|                  0|             0|           0|             0.0|             0|             0|     M|               1|           mr|     True|        False|     True|             True|               689|     3205|           106.83|             8.9|         se|\n|-7154634866120535654|user|   Turquie|      en|                3|              8|                  0|             0|           0|             0.0|             0|             0|     F|               2|          mrs|    False|        False|    False|             True|               709|     3205|           106.83|             8.9|         tr|\n| 2858299215060733023|user|    France|      en|                3|              8|                  0|             0|           0|             0.0|             0|             0|     M|               1|           mr|     True|        False|     True|             True|               709|     3205|           106.83|             8.9|         fr|\n+--------------------+----+----------+--------+-----------------+---------------+-------------------+--------------+------------+----------------+--------------+--------------+------+----------------+-------------+---------+-------------+---------+-----------------+------------------+---------+-----------------+----------------+-----------+\nonly showing top 5 rows\n\n"
     ]
    }
   ],
   "source": [
    "userDF.show(5)"
   ]
  },
  {
   "cell_type": "code",
   "execution_count": 0,
   "metadata": {
    "application/vnd.databricks.v1+cell": {
     "cellMetadata": {
      "byteLimit": 2048000,
      "rowLimit": 10000
     },
     "inputWidgets": {},
     "nuid": "dc4992dd-cb25-4795-a9ca-6b430049095b",
     "showTitle": false,
     "title": ""
    }
   },
   "outputs": [],
   "source": [
    "userDF.write.format(\"delta\")\\\n",
    "    .mode(\"overwrite\")\\\n",
    "    .save(\"/mnt/delta/tables/bronze/users\")"
   ]
  },
  {
   "cell_type": "code",
   "execution_count": 0,
   "metadata": {
    "application/vnd.databricks.v1+cell": {
     "cellMetadata": {
      "byteLimit": 2048000,
      "rowLimit": 10000
     },
     "inputWidgets": {},
     "nuid": "c1b73541-f031-4976-84bf-a9588669de00",
     "showTitle": false,
     "title": ""
    }
   },
   "outputs": [],
   "source": [
    "buyersDF = spark.read.format(\"parquet\")\\\n",
    "    .option(\"header\",'true')\\\n",
    "    .option(\"inferSchema\",'true')\\\n",
    "    .load(\"/mnt/ecomdata1/buyers-raw-2\")"
   ]
  },
  {
   "cell_type": "code",
   "execution_count": 0,
   "metadata": {
    "application/vnd.databricks.v1+cell": {
     "cellMetadata": {
      "byteLimit": 2048000,
      "rowLimit": 10000
     },
     "inputWidgets": {},
     "nuid": "f31c1824-89b9-4f8b-8069-a718a3e3cec2",
     "showTitle": false,
     "title": ""
    }
   },
   "outputs": [],
   "source": [
    "buyersDF.write.format(\"delta\")\\\n",
    "    .mode(\"overwrite\")\\\n",
    "    .save(\"/mnt/delta/tables/bronze/buyers\")"
   ]
  },
  {
   "cell_type": "code",
   "execution_count": 0,
   "metadata": {
    "application/vnd.databricks.v1+cell": {
     "cellMetadata": {
      "byteLimit": 2048000,
      "rowLimit": 10000
     },
     "inputWidgets": {},
     "nuid": "d34bfaf3-d2c3-4e44-b2dc-76ecca995df8",
     "showTitle": false,
     "title": ""
    }
   },
   "outputs": [],
   "source": [
    "sellersDF = spark.read.format(\"parquet\")\\\n",
    "    .option(\"header\",'true')\\\n",
    "    .option(\"inferSchema\",'true')\\\n",
    "    .load(\"/mnt/ecomdata1/sellers-raw-2\")\n",
    "\n",
    "sellersDF.write.format(\"delta\")\\\n",
    "    .mode(\"overwrite\")\\\n",
    "    .save(\"/mnt/delta/tables/bronze/sellers\")"
   ]
  },
  {
   "cell_type": "code",
   "execution_count": 0,
   "metadata": {
    "application/vnd.databricks.v1+cell": {
     "cellMetadata": {
      "byteLimit": 2048000,
      "rowLimit": 10000
     },
     "inputWidgets": {},
     "nuid": "b12d1c8b-3af0-4735-b1af-9b53205594cb",
     "showTitle": false,
     "title": ""
    }
   },
   "outputs": [],
   "source": [
    "countriesDF = spark.read.format(\"parquet\")\\\n",
    "    .option(\"header\",'true')\\\n",
    "    .option(\"inferSchema\",'true')\\\n",
    "    .load(\"/mnt/ecomdata1/countries-raw-2\")\n",
    "\n",
    "countriesDF.write.format(\"delta\")\\\n",
    "    .mode(\"overwrite\")\\\n",
    "    .save(\"/mnt/delta/tables/bronze/countries\")"
   ]
  },
  {
   "cell_type": "code",
   "execution_count": 0,
   "metadata": {
    "application/vnd.databricks.v1+cell": {
     "cellMetadata": {},
     "inputWidgets": {},
     "nuid": "3777135d-33e6-450d-912a-9a4f4a9accb2",
     "showTitle": false,
     "title": ""
    }
   },
   "outputs": [],
   "source": []
  }
 ],
 "metadata": {
  "application/vnd.databricks.v1+notebook": {
   "dashboards": [],
   "language": "python",
   "notebookMetadata": {
    "mostRecentlyExecutedCommandWithImplicitDF": {
     "commandId": 1873744497818518,
     "dataframes": [
      "_sqldf"
     ]
    },
    "pythonIndentUnit": 4
   },
   "notebookName": "Broze_Layer",
   "widgets": {}
  }
 },
 "nbformat": 4,
 "nbformat_minor": 0
}
